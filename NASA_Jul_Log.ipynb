{
  "cells": [
    {
      "cell_type": "markdown",
      "metadata": {
        "id": "view-in-github",
        "colab_type": "text"
      },
      "source": [
        "<a href=\"https://colab.research.google.com/github/mlmaniac-neelothkulaambaal/PROJECT_NASA/blob/main/NASA_Jul_Log.ipynb\" target=\"_parent\"><img src=\"https://colab.research.google.com/assets/colab-badge.svg\" alt=\"Open In Colab\"/></a>"
      ]
    },
    {
      "cell_type": "markdown",
      "source": [
        "**1. Download text from given URL**"
      ],
      "metadata": {
        "id": "m0GfgTL1rCzC"
      }
    },
    {
      "cell_type": "code",
      "source": [
        "!wget https://ditotw.space/NASA_access_log_Jul95.gz"
      ],
      "metadata": {
        "colab": {
          "base_uri": "https://localhost:8080/"
        },
        "id": "TqsaZLWmO2j9",
        "outputId": "74e42283-05ba-4c3b-b255-3db286eee1d1"
      },
      "execution_count": null,
      "outputs": [
        {
          "output_type": "stream",
          "name": "stdout",
          "text": [
            "--2022-02-07 23:07:44--  https://ditotw.space/NASA_access_log_Jul95.gz\n",
            "Resolving ditotw.space (ditotw.space)... 162.241.217.135\n",
            "Connecting to ditotw.space (ditotw.space)|162.241.217.135|:443... connected.\n",
            "HTTP request sent, awaiting response... 200 OK\n",
            "Length: 20676672 (20M) [application/x-gzip]\n",
            "Saving to: ‘NASA_access_log_Jul95.gz’\n",
            "\n",
            "NASA_access_log_Jul 100%[===================>]  19.72M  17.3MB/s    in 1.1s    \n",
            "\n",
            "2022-02-07 23:07:46 (17.3 MB/s) - ‘NASA_access_log_Jul95.gz’ saved [20676672/20676672]\n",
            "\n"
          ]
        }
      ]
    },
    {
      "cell_type": "markdown",
      "source": [
        "**2. Install pyspark and importing necessary libraries**"
      ],
      "metadata": {
        "id": "ksGaLQ-hrPP3"
      }
    },
    {
      "cell_type": "code",
      "source": [
        "pip install pyspark"
      ],
      "metadata": {
        "colab": {
          "base_uri": "https://localhost:8080/"
        },
        "id": "ednzKEIdtpp1",
        "outputId": "1be9848b-d1a2-4ac7-a4e7-ec9c765ba841"
      },
      "execution_count": null,
      "outputs": [
        {
          "output_type": "stream",
          "name": "stdout",
          "text": [
            "Collecting pyspark\n",
            "  Downloading pyspark-3.2.1.tar.gz (281.4 MB)\n",
            "\u001b[K     |████████████████████████████████| 281.4 MB 37 kB/s \n",
            "\u001b[?25hCollecting py4j==0.10.9.3\n",
            "  Downloading py4j-0.10.9.3-py2.py3-none-any.whl (198 kB)\n",
            "\u001b[K     |████████████████████████████████| 198 kB 63.4 MB/s \n",
            "\u001b[?25hBuilding wheels for collected packages: pyspark\n",
            "  Building wheel for pyspark (setup.py) ... \u001b[?25l\u001b[?25hdone\n",
            "  Created wheel for pyspark: filename=pyspark-3.2.1-py2.py3-none-any.whl size=281853642 sha256=f7b55938445aee836d448bb1eba49e630fd91389180c88ac129dc7bbe2811e92\n",
            "  Stored in directory: /root/.cache/pip/wheels/9f/f5/07/7cd8017084dce4e93e84e92efd1e1d5334db05f2e83bcef74f\n",
            "Successfully built pyspark\n",
            "Installing collected packages: py4j, pyspark\n",
            "Successfully installed py4j-0.10.9.3 pyspark-3.2.1\n"
          ]
        }
      ]
    },
    {
      "cell_type": "code",
      "source": [
        "from pyspark import SparkContext,SparkConf\n",
        "from pyspark.sql import SQLContext\n",
        "import os.path\n",
        "import re"
      ],
      "metadata": {
        "id": "vi126u6ctuvC"
      },
      "execution_count": null,
      "outputs": []
    },
    {
      "cell_type": "markdown",
      "source": [
        "**3. Confirm that the download is successful. The file is in the local working direrctory in Google Colab.**"
      ],
      "metadata": {
        "id": "p8CVDLcn5yjV"
      }
    },
    {
      "cell_type": "code",
      "source": [
        "mypath='/content/NASA_access_log_Jul95.gz'\n",
        "os.path.isfile(mypath)"
      ],
      "metadata": {
        "colab": {
          "base_uri": "https://localhost:8080/"
        },
        "id": "runBdtT9tyVx",
        "outputId": "14164a12-e31b-47b2-e2f1-e00041e2ae2e"
      },
      "execution_count": null,
      "outputs": [
        {
          "output_type": "execute_result",
          "data": {
            "text/plain": [
              "True"
            ]
          },
          "metadata": {},
          "execution_count": 4
        }
      ]
    },
    {
      "cell_type": "markdown",
      "source": [
        "**4. Create sparkcontext and RDD**"
      ],
      "metadata": {
        "id": "sGf0e13x6cmM"
      }
    },
    {
      "cell_type": "code",
      "source": [
        "config = SparkConf().setAppName(\"NASA_Logs\").setMaster(\"local[*]\")\n",
        "sc = SparkContext.getOrCreate(config)\n",
        "sqlcontext = SQLContext(sc)\n",
        "rdd = sc.textFile(mypath)\n"
      ],
      "metadata": {
        "colab": {
          "base_uri": "https://localhost:8080/"
        },
        "id": "gORK-OwVt1Gt",
        "outputId": "153aa4e7-e169-471d-b57f-3d83e1054e65"
      },
      "execution_count": null,
      "outputs": [
        {
          "output_type": "stream",
          "name": "stderr",
          "text": [
            "/usr/local/lib/python3.7/dist-packages/pyspark/sql/context.py:79: FutureWarning: Deprecated in 3.0.0. Use SparkSession.builder.getOrCreate() instead.\n",
            "  FutureWarning\n"
          ]
        }
      ]
    },
    {
      "cell_type": "markdown",
      "source": [
        "**5. Check number of rows in the RDD**"
      ],
      "metadata": {
        "id": "-ywC2SLo7PbU"
      }
    },
    {
      "cell_type": "code",
      "source": [
        "rdd.count()"
      ],
      "metadata": {
        "colab": {
          "base_uri": "https://localhost:8080/"
        },
        "id": "sMqFgHN2rlWo",
        "outputId": "029872ef-37c7-4248-80e2-fdc89a7c6a75"
      },
      "execution_count": null,
      "outputs": [
        {
          "output_type": "execute_result",
          "data": {
            "text/plain": [
              "1891715"
            ]
          },
          "metadata": {},
          "execution_count": 6
        }
      ]
    },
    {
      "cell_type": "markdown",
      "source": [
        "**6. Printing first 5 records in the RDD**"
      ],
      "metadata": {
        "id": "SqzHQE857U8z"
      }
    },
    {
      "cell_type": "code",
      "source": [
        "rdd.take(1)"
      ],
      "metadata": {
        "colab": {
          "base_uri": "https://localhost:8080/"
        },
        "id": "b4pGQ9bCYHRL",
        "outputId": "59ea5fc9-0ff2-4045-d14e-44993ea1b6b4"
      },
      "execution_count": null,
      "outputs": [
        {
          "output_type": "execute_result",
          "data": {
            "text/plain": [
              "['199.72.81.55 - - [01/Jul/1995:00:00:01 -0400] \"GET /history/apollo/ HTTP/1.0\" 200 6245']"
            ]
          },
          "metadata": {},
          "execution_count": 7
        }
      ]
    },
    {
      "cell_type": "code",
      "source": [
        "i=0\n",
        "for line in rdd.sample(withReplacement = False, fraction = 0.00001, seed = 100).collect():\n",
        "    i=i+1\n",
        "    print(line)\n",
        "    if i >5:\n",
        "      break"
      ],
      "metadata": {
        "colab": {
          "base_uri": "https://localhost:8080/"
        },
        "id": "VDiAJ9u7xVVG",
        "outputId": "ff7f381f-389a-43d5-c445-748adbebbff1"
      },
      "execution_count": null,
      "outputs": [
        {
          "output_type": "stream",
          "name": "stdout",
          "text": [
            "ix-lb7-05.ix.netcom.com - - [02/Jul/1995:04:04:00 -0400] \"GET /shuttle/missions/sts-71/images/images.html HTTP/1.0\" 200 7634\n",
            "zachar.fast.net - - [03/Jul/1995:00:06:07 -0400] \"GET /shuttle/technology/images/sts_body_2-small.gif HTTP/1.0\" 200 30067\n",
            "ix-bos8-08.ix.netcom.com - - [03/Jul/1995:11:48:45 -0400] \"GET /images/USA-logosmall.gif HTTP/1.0\" 200 234\n",
            "199.120.22.3 - - [03/Jul/1995:21:24:27 -0400] \"GET /shuttle/missions/sts-67/sts-67-patch-small.gif HTTP/1.0\" 200 17083\n",
            "wstabnow.clark.net - - [04/Jul/1995:13:37:33 -0400] \"GET /shuttle/technology/images/srb_mod_compare_1-small.gif HTTP/1.0\" 200 36902\n",
            "alyssa.prodigy.com - - [05/Jul/1995:23:59:57 -0400] \"GET /history/apollo/apollo-4/images/ HTTP/1.0\" 200 514\n"
          ]
        }
      ]
    },
    {
      "cell_type": "markdown",
      "source": [
        "**7. Set the regular expression to filter those without desired data format. Data might include undesirable characters.**"
      ],
      "metadata": {
        "id": "H5UZkMl9jNSh"
      }
    },
    {
      "cell_type": "code",
      "source": [
        "search_regex_template1='^(\\S+) (\\S+) (\\S+) \\[(\\S+) [-](\\d{4})\\] \"(\\S+)\\s*(\\S+)\\s*(\\S+)\\s*([\\w\\.\\s*]+)?\\s*\"*(\\d{3}) (\\S+)'\n",
        "search_regex_template2='^(\\S+) (\\S+) (\\S+) \\[(\\S+) [-](\\d{4})\\] \"(\\S+)\\s*([/\\w\\.]+)>*([\\w/\\s\\.]+)\\s*(\\S+)\\s*(\\d{3})\\s*(\\S+)'"
      ],
      "metadata": {
        "id": "UlPRfOAayT0Q"
      },
      "execution_count": null,
      "outputs": []
    },
    {
      "cell_type": "markdown",
      "source": [
        "**8. Check the number of failing line entries(records) to ensure data stability**"
      ],
      "metadata": {
        "id": "joxKycRvjsr5"
      }
    },
    {
      "cell_type": "code",
      "source": [
        "def find_failed_items(line):\n",
        "    match = re.search(search_regex_template1, line)\n",
        "    if match is None:\n",
        "        return 0\n",
        "    else:\n",
        "        return 1\n",
        "\n",
        "rddRecordCount = rdd.count()\n",
        "failedRecords = rdd.map(lambda line: find_failed_items(line)).filter(lambda line: line == 0).count()\n",
        "print('{}/{} records failed to parse'.format(failedRecords,rddRecordCount))"
      ],
      "metadata": {
        "colab": {
          "base_uri": "https://localhost:8080/"
        },
        "id": "gPwkAUdtjfRJ",
        "outputId": "0af63af0-aaf4-4e79-c71e-4e2a807aeb0b"
      },
      "execution_count": null,
      "outputs": [
        {
          "output_type": "stream",
          "name": "stdout",
          "text": [
            "855/1891715 records failed to parse\n"
          ]
        }
      ]
    },
    {
      "cell_type": "markdown",
      "source": [
        "**9. Filtering all the records without proper format, there is still 790 such undesirable records. It is a very low count for the massive dataset, so we can proceed with the dataset.**"
      ],
      "metadata": {
        "id": "J9brAq6kZsTR"
      }
    },
    {
      "cell_type": "code",
      "source": [
        "def deep_cleaning_log(line):\n",
        "    match = re.search(search_regex_template1,line)\n",
        "    if match is None:\n",
        "        match = re.search(search_regex_template2,line)\n",
        "    if match is None:\n",
        "        return (line, 0)\n",
        "    else:\n",
        "        return (line, 1)\n",
        "failedRecords = rdd.map(lambda line: deep_cleaning_log(line)).filter(lambda line: line[1] == 0).count()\n",
        "print('{}/{} records failed to parse'.format(failedRecords,rddRecordCount))"
      ],
      "metadata": {
        "colab": {
          "base_uri": "https://localhost:8080/"
        },
        "id": "-ERkK5K_ygho",
        "outputId": "c58a47e8-57d8-4f3f-c0f8-e7e5b21c18b2"
      },
      "execution_count": null,
      "outputs": [
        {
          "output_type": "stream",
          "name": "stdout",
          "text": [
            "790/1891715 records failed to parse\n"
          ]
        }
      ]
    },
    {
      "cell_type": "markdown",
      "source": [
        "**10. map_log function returns the desired dataset to be parsed for counting.**"
      ],
      "metadata": {
        "id": "r_jZqmgjafBA"
      }
    },
    {
      "cell_type": "code",
      "source": [
        "def map_log(line):\n",
        "    match = re.search(search_regex_template1,line)\n",
        "    if match is None:\n",
        "        match = re.search(search_regex_template2,line)\n",
        "\n",
        "    return(match.groups())"
      ],
      "metadata": {
        "id": "4TapM3WvymfA"
      },
      "execution_count": null,
      "outputs": []
    },
    {
      "cell_type": "markdown",
      "source": [
        "**11. Extracting the 11 elements from the record.**"
      ],
      "metadata": {
        "id": "z1vhl70AbQuN"
      }
    },
    {
      "cell_type": "code",
      "source": [
        "parsedRdd = rdd.map(lambda line: deep_cleaning_log(line)).filter(lambda line: line[1] == 1).map(lambda line : line[0])"
      ],
      "metadata": {
        "id": "ieiJIf1LNego"
      },
      "execution_count": null,
      "outputs": []
    },
    {
      "cell_type": "code",
      "source": [
        "parsedRdd2 = parsedRdd.map(lambda line: map_log(line))"
      ],
      "metadata": {
        "id": "StsnObcqyuAD"
      },
      "execution_count": null,
      "outputs": []
    },
    {
      "cell_type": "markdown",
      "source": [
        "**12. Print the first 3 extracted values in each record to view sample**"
      ],
      "metadata": {
        "id": "8L6CiH-JbwhW"
      }
    },
    {
      "cell_type": "code",
      "source": [
        "for element in parsedRdd2.take(3):\n",
        "    print(element)\n",
        "    print('\\n')"
      ],
      "metadata": {
        "colab": {
          "base_uri": "https://localhost:8080/"
        },
        "id": "B5V3i0UiMXTM",
        "outputId": "cddba99e-2137-4903-c5c6-b17611c9b7ca"
      },
      "execution_count": null,
      "outputs": [
        {
          "output_type": "stream",
          "name": "stdout",
          "text": [
            "('199.72.81.55', '-', '-', '01/Jul/1995:00:00:01', '0400', 'GET', '/history/apollo/', 'HTTP/1.0\"', None, '200', '6245')\n",
            "\n",
            "\n",
            "('unicomp6.unicomp.net', '-', '-', '01/Jul/1995:00:00:06', '0400', 'GET', '/shuttle/countdown/', 'HTTP/1.0\"', None, '200', '3985')\n",
            "\n",
            "\n",
            "('199.120.110.21', '-', '-', '01/Jul/1995:00:00:09', '0400', 'GET', '/shuttle/missions/sts-73/mission-sts-73.html', 'HTTP/1.0\"', None, '200', '4085')\n",
            "\n",
            "\n"
          ]
        }
      ]
    },
    {
      "cell_type": "markdown",
      "source": [
        "**13. Ensure all the records have 11 elements in total and are generic.**"
      ],
      "metadata": {
        "id": "J8UbhaQ1cFQ2"
      }
    },
    {
      "cell_type": "code",
      "source": [
        "parsedRdd2.map(lambda line: len(line)).distinct().collect()"
      ],
      "metadata": {
        "colab": {
          "base_uri": "https://localhost:8080/"
        },
        "id": "ZPbouTl8y-C4",
        "outputId": "bbb7ef56-5624-4aa0-b82b-ffb4d7b76cdb"
      },
      "execution_count": null,
      "outputs": [
        {
          "output_type": "execute_result",
          "data": {
            "text/plain": [
              "[11]"
            ]
          },
          "metadata": {},
          "execution_count": 16
        }
      ]
    },
    {
      "cell_type": "markdown",
      "source": [
        "14. **PROGRAM EXECUTION:**\n",
        "In order to view the top N sites, run the following cells and key in the N value. The reducer function outputs the summation of each distinct URL, and returns the top N most visited sites."
      ],
      "metadata": {
        "id": "fxszM1TKdDmN"
      }
    },
    {
      "cell_type": "code",
      "source": [
        "def result(n):\n",
        "  result = parsedRdd2.map(lambda line: (line[0],1)).reduceByKey(lambda previousCount, nextCount: previousCount + nextCount).takeOrdered(n, lambda x: -x[1])\n",
        "  print(result)"
      ],
      "metadata": {
        "id": "Awa2mcv1zSZy"
      },
      "execution_count": null,
      "outputs": []
    },
    {
      "cell_type": "code",
      "source": [
        "n=input('Enter top N sites you wish to see:')\n",
        "\n",
        "result(int(n))"
      ],
      "metadata": {
        "colab": {
          "base_uri": "https://localhost:8080/"
        },
        "id": "FAupGPXAOmiy",
        "outputId": "2c43b855-f0e9-4c77-9277-268790b7a5d9"
      },
      "execution_count": null,
      "outputs": [
        {
          "output_type": "stream",
          "name": "stdout",
          "text": [
            "Enter top N sites you wish to see:3\n",
            "[('piweba3y.prodigy.com', 17572), ('piweba4y.prodigy.com', 11591), ('piweba1y.prodigy.com', 9868)]\n"
          ]
        }
      ]
    }
  ],
  "metadata": {
    "colab": {
      "collapsed_sections": [],
      "name": "NASA_Jul_Log",
      "provenance": [],
      "include_colab_link": true
    },
    "kernelspec": {
      "display_name": "Python 3",
      "name": "python3"
    },
    "accelerator": "GPU"
  },
  "nbformat": 4,
  "nbformat_minor": 0
}